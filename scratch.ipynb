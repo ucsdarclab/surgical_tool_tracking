{
 "cells": [
  {
   "cell_type": "code",
   "execution_count": 2,
   "metadata": {},
   "outputs": [],
   "source": [
    "import numpy as np\n",
    "import pandas as pd\n",
    "import scipy\n",
    "import matplotlib.pyplot as plt\n",
    "import cv2\n",
    "import math\n",
    "from scipy.cluster.hierarchy import fclusterdata\n",
    "\n",
    "df_left_image = pd.read_csv('journal_dataset/stationary_camera_2020-06-24-15-49-10-001/stereo-left-image.csv', nrows = 10)\n",
    "df_left_image.head()\n",
    "raw_string = df_left_image['data'][0]\n"
   ]
  },
  {
   "cell_type": "code",
   "execution_count": 3,
   "metadata": {},
   "outputs": [
    {
     "data": {
      "text/plain": [
       "array([0.90750437, 0.47539168, 0.74267096, 0.7503687 , 0.32864623,\n",
       "       0.71961623])"
      ]
     },
     "execution_count": 3,
     "metadata": {},
     "output_type": "execute_result"
    }
   ],
   "source": [
    "np.random.rand(6)"
   ]
  },
  {
   "cell_type": "code",
   "execution_count": 3,
   "metadata": {},
   "outputs": [
    {
     "data": {
      "text/html": [
       "<div>\n",
       "<style scoped>\n",
       "    .dataframe tbody tr th:only-of-type {\n",
       "        vertical-align: middle;\n",
       "    }\n",
       "\n",
       "    .dataframe tbody tr th {\n",
       "        vertical-align: top;\n",
       "    }\n",
       "\n",
       "    .dataframe thead th {\n",
       "        text-align: right;\n",
       "    }\n",
       "</style>\n",
       "<table border=\"1\" class=\"dataframe\">\n",
       "  <thead>\n",
       "    <tr style=\"text-align: right;\">\n",
       "      <th></th>\n",
       "      <th>Time</th>\n",
       "      <th>header.seq</th>\n",
       "      <th>header.stamp.secs</th>\n",
       "      <th>header.stamp.nsecs</th>\n",
       "      <th>header.frame_id</th>\n",
       "      <th>height</th>\n",
       "      <th>width</th>\n",
       "      <th>encoding</th>\n",
       "      <th>is_bigendian</th>\n",
       "      <th>step</th>\n",
       "      <th>data</th>\n",
       "    </tr>\n",
       "  </thead>\n",
       "  <tbody>\n",
       "    <tr>\n",
       "      <th>0</th>\n",
       "      <td>1.593039e+09</td>\n",
       "      <td>112559</td>\n",
       "      <td>1593038951</td>\n",
       "      <td>47999498</td>\n",
       "      <td>NaN</td>\n",
       "      <td>1080</td>\n",
       "      <td>1920</td>\n",
       "      <td>rgb8</td>\n",
       "      <td>0</td>\n",
       "      <td>5760</td>\n",
       "      <td>b' \\'\\n\"*\\x0c$\\'\\x14\\x1f#\\x0f\\x1d!\\x12 %\\x16\\x...</td>\n",
       "    </tr>\n",
       "    <tr>\n",
       "      <th>1</th>\n",
       "      <td>1.593039e+09</td>\n",
       "      <td>112560</td>\n",
       "      <td>1593038951</td>\n",
       "      <td>81345327</td>\n",
       "      <td>NaN</td>\n",
       "      <td>1080</td>\n",
       "      <td>1920</td>\n",
       "      <td>rgb8</td>\n",
       "      <td>0</td>\n",
       "      <td>5760</td>\n",
       "      <td>b'\\x19)\\n\\x15%\\x07 (\\x0f\\x1d&amp;\\x0c\\x16$\\x18\\x15...</td>\n",
       "    </tr>\n",
       "    <tr>\n",
       "      <th>2</th>\n",
       "      <td>1.593039e+09</td>\n",
       "      <td>112561</td>\n",
       "      <td>1593038951</td>\n",
       "      <td>114722989</td>\n",
       "      <td>NaN</td>\n",
       "      <td>1080</td>\n",
       "      <td>1920</td>\n",
       "      <td>rgb8</td>\n",
       "      <td>0</td>\n",
       "      <td>5760</td>\n",
       "      <td>b'\\x1a)\\x04\\x17&amp;\\x01\\x17&amp;\\x13\\x16%\\x12\\x1f#\\x1...</td>\n",
       "    </tr>\n",
       "    <tr>\n",
       "      <th>3</th>\n",
       "      <td>1.593039e+09</td>\n",
       "      <td>112562</td>\n",
       "      <td>1593038951</td>\n",
       "      <td>148102996</td>\n",
       "      <td>NaN</td>\n",
       "      <td>1080</td>\n",
       "      <td>1920</td>\n",
       "      <td>rgb8</td>\n",
       "      <td>0</td>\n",
       "      <td>5760</td>\n",
       "      <td>b'\\x18%\\x03\\x19&amp;\\x04!$\\x03\\x1f\"\\x01\\x1e#\\x11\\x...</td>\n",
       "    </tr>\n",
       "    <tr>\n",
       "      <th>4</th>\n",
       "      <td>1.593039e+09</td>\n",
       "      <td>112563</td>\n",
       "      <td>1593038951</td>\n",
       "      <td>181353277</td>\n",
       "      <td>NaN</td>\n",
       "      <td>1080</td>\n",
       "      <td>1920</td>\n",
       "      <td>rgb8</td>\n",
       "      <td>0</td>\n",
       "      <td>5760</td>\n",
       "      <td>b'\\x1b\\'\\x07\\x18$\\x05\\x1b#\\x17\\x1d&amp;\\x1a##\\x18%...</td>\n",
       "    </tr>\n",
       "  </tbody>\n",
       "</table>\n",
       "</div>"
      ],
      "text/plain": [
       "           Time  header.seq  header.stamp.secs  header.stamp.nsecs  \\\n",
       "0  1.593039e+09      112559         1593038951            47999498   \n",
       "1  1.593039e+09      112560         1593038951            81345327   \n",
       "2  1.593039e+09      112561         1593038951           114722989   \n",
       "3  1.593039e+09      112562         1593038951           148102996   \n",
       "4  1.593039e+09      112563         1593038951           181353277   \n",
       "\n",
       "   header.frame_id  height  width encoding  is_bigendian  step  \\\n",
       "0              NaN    1080   1920     rgb8             0  5760   \n",
       "1              NaN    1080   1920     rgb8             0  5760   \n",
       "2              NaN    1080   1920     rgb8             0  5760   \n",
       "3              NaN    1080   1920     rgb8             0  5760   \n",
       "4              NaN    1080   1920     rgb8             0  5760   \n",
       "\n",
       "                                                data  \n",
       "0  b' \\'\\n\"*\\x0c$\\'\\x14\\x1f#\\x0f\\x1d!\\x12 %\\x16\\x...  \n",
       "1  b'\\x19)\\n\\x15%\\x07 (\\x0f\\x1d&\\x0c\\x16$\\x18\\x15...  \n",
       "2  b'\\x1a)\\x04\\x17&\\x01\\x17&\\x13\\x16%\\x12\\x1f#\\x1...  \n",
       "3  b'\\x18%\\x03\\x19&\\x04!$\\x03\\x1f\"\\x01\\x1e#\\x11\\x...  \n",
       "4  b'\\x1b\\'\\x07\\x18$\\x05\\x1b#\\x17\\x1d&\\x1a##\\x18%...  "
      ]
     },
     "execution_count": 3,
     "metadata": {},
     "output_type": "execute_result"
    }
   ],
   "source": [
    "df_left_image.head()"
   ]
  },
  {
   "cell_type": "code",
   "execution_count": 2,
   "metadata": {},
   "outputs": [
    {
     "data": {
      "text/plain": [
       "'b\\' \\\\\\'\\\\n\"*\\\\x0c$\\\\\\'\\\\x14\\\\x1f#'"
      ]
     },
     "execution_count": 2,
     "metadata": {},
     "output_type": "execute_result"
    }
   ],
   "source": [
    "raw_string[0:25]"
   ]
  },
  {
   "cell_type": "code",
   "execution_count": null,
   "metadata": {},
   "outputs": [],
   "source": [
    "\n",
    "byte_string = raw_string[2:-1].encode('latin1')\n",
    "escaped_string = byte_string.decode('unicode_escape')\n",
    "byte_string = escaped_string.encode('latin1')\n",
    "nparr = np.fromstring(byte_string, np.uint8)\n",
    "rgb = nparr.reshape((1080, 1920, -1))\n",
    "plt.imshow(rgb)\n",
    "\n",
    "grey = cv2.cvtColor(rgb, cv2.COLOR_RGB2GRAY)\n",
    "plt.imshow(grey, cmap = 'gray')\n",
    "\n",
    "\n",
    "blur = cv2.GaussianBlur(grey, ksize=(25,25), sigmaX=0)\n",
    "plt.imshow(blur, cmap = 'gray')\n",
    "\n",
    "\n",
    "thresh, mask = cv2.threshold(blur, thresh = 150, maxval = 175, type = cv2.THRESH_BINARY_INV + cv2.THRESH_OTSU)\n",
    "plt.imshow(mask, cmap = 'gray')\n",
    "\n",
    "\n",
    "edges = cv2.Canny(blur, threshold1 = 200, threshold2 = 255, apertureSize = 5, L2gradient = True)\n",
    "plt.imshow(edges, cmap = 'gray')\n",
    "\n",
    "\n",
    "\n",
    "edges_and_mask = cv2.bitwise_and(edges, mask)\n",
    "plt.imshow(edges_and_mask)\n",
    "lines = cv2.HoughLinesWithAccumulator(edges_and_mask, rho = 5, theta = 0.09, threshold = 150) \n",
    "lines = np.squeeze(lines)\n",
    "# sort by max votes\n",
    "sorted_lines = lines[(-lines[:, 2]).argsort()]\n",
    "for i in range(sorted_lines.shape[0]):\n",
    "    rho = sorted_lines[i, 0]\n",
    "    theta = sorted_lines[i, 1]\n",
    "    a = math.cos(theta)\n",
    "    b = math.sin(theta)\n",
    "    x0 = a * rho\n",
    "    y0 = b * rho\n",
    "    pt1 = (int(x0 + 1000*(-b)), int(y0 + 1000*(a)))\n",
    "    pt2 = (int(x0 - 1000*(-b)), int(y0 - 1000*(a)))\n",
    "    cv2.line(rgb, pt1, pt2, (0,0,255), 2)\n",
    "plt.imshow(rgb)\n",
    "\n",
    "rho_clusters = fclusterdata(sorted_lines[:, 0].reshape(-1, 1), t = 5, criterion = 'distance', method = 'complete')\n",
    "theta_clusters = fclusterdata(sorted_lines[:, 1].reshape(-1, 1), t = 0.09, criterion = 'distance', method = 'complete')\n",
    "\n",
    "best_lines = []\n",
    "checked_clusters = []\n",
    "for i in range(sorted_lines.shape[0]):\n",
    "    rho_cluster = rho_clusters[i]\n",
    "    theta_cluster = theta_clusters[i]\n",
    "    cluster = (rho_cluster, theta_cluster)\n",
    "    if (cluster in checked_clusters):\n",
    "        continue\n",
    "    best_lines.append([lines[i, 0], lines[i, 1]])\n",
    "    checked_clusters.append(cluster)\n",
    "    if len(best_lines) >= 2:\n",
    "        break\n",
    "\n",
    "best_lines = np.asarray(best_lines)\n",
    "\n",
    "for i in range(best_lines.shape[0]):\n",
    "    rho = best_lines[i, 0]\n",
    "    theta = best_lines[i, 1]\n",
    "    a = math.cos(theta)\n",
    "    b = math.sin(theta)\n",
    "    x0 = a * rho\n",
    "    y0 = b * rho\n",
    "    pt1 = (int(x0 + 2000*(-b)), int(y0 + 2000*(a)))\n",
    "    pt2 = (int(x0 - 2000*(-b)), int(y0 - 2000*(a)))\n",
    "    cv2.line(rgb, pt1, pt2, (255,0,0), 2)\n",
    "plt.imshow(rgb)"
   ]
  },
  {
   "cell_type": "code",
   "execution_count": 1,
   "metadata": {},
   "outputs": [],
   "source": [
    "import yaml\n",
    "import os\n",
    "import numpy as np\n",
    "\n",
    "\n",
    "# construct node\n",
    "def opencv_matrix(loader, node):\n",
    "    mapping = loader.construct_mapping(node, deep=True)\n",
    "    mat = np.array(mapping[\"data\"])\n",
    "    mat.resize(mapping[\"rows\"], mapping[\"cols\"])\n",
    "    return mat\n",
    "yaml.add_constructor(u\"tag:yaml.org,2002:opencv-matrix\", opencv_matrix)\n",
    "\n",
    "# loading\n",
    "with open('journal_dataset/camera_calibration.yaml') as fin:\n",
    "    c = fin.read()\n",
    "    # some operator on raw conent of c may be needed\n",
    "    c = \"%YAML 1.1\"+os.linesep+\"---\" + c[len(\"%YAML:1.0\"):] if c.startswith(\"%YAML:1.0\") else c\n",
    "    result = yaml.full_load(c)"
   ]
  },
  {
   "cell_type": "code",
   "execution_count": 2,
   "metadata": {},
   "outputs": [
    {
     "data": {
      "text/plain": [
       "{'K1': array([[1.64355164e+03, 0.00000000e+00, 8.33842175e+02],\n",
       "        [0.00000000e+00, 1.63281196e+03, 6.57989555e+02],\n",
       "        [0.00000000e+00, 0.00000000e+00, 1.00000000e+00]]),\n",
       " 'K2': array([[1.63577915e+03, 0.00000000e+00, 1.05825488e+03],\n",
       "        [0.00000000e+00, 1.63112678e+03, 6.94985444e+02],\n",
       "        [0.00000000e+00, 0.00000000e+00, 1.00000000e+00]]),\n",
       " 'D1': array([[-0.40444239,  0.58161898, -0.00497978,  0.00232176, -0.21547479]]),\n",
       " 'D2': array([[-0.38302513,  0.49543626, -0.00251143,  0.00254013, -0.05051454]]),\n",
       " 'ImageSize': [1080, 1920],\n",
       " 'T': [-5.30606823731539, -0.203133361927184, -0.256298572991149],\n",
       " 'R': array([[ 0.99988655, -0.00130389, -0.01500622],\n",
       "        [ 0.00111945,  0.99992382, -0.01229268],\n",
       "        [ 0.01502111,  0.01227449,  0.99981183]])}"
      ]
     },
     "execution_count": 2,
     "metadata": {},
     "output_type": "execute_result"
    }
   ],
   "source": [
    "result"
   ]
  },
  {
   "cell_type": "code",
   "execution_count": 3,
   "metadata": {},
   "outputs": [],
   "source": [
    "# loading\n",
    "with open('journal_dataset/handeye.yaml') as fin:\n",
    "    c = fin.read()\n",
    "    # some operator on raw conent of c may be needed\n",
    "    c = \"%YAML 1.1\"+os.linesep+\"---\" + c[len(\"%YAML:1.0\"):] if c.startswith(\"%YAML:1.0\") else c\n",
    "    result = yaml.full_load(c)"
   ]
  },
  {
   "cell_type": "code",
   "execution_count": 4,
   "metadata": {},
   "outputs": [
    {
     "data": {
      "text/plain": [
       "{'PSM1_rvec': [0.9103082418441772, -2.4375524520874023, 1.2004119157791138],\n",
       " 'PSM1_tvec': [95.79222106933594, -58.37983703613281, -1.4819064140319824],\n",
       " 'cam_rvec': [0.0, 0.0, 0.0],\n",
       " 'cam_tvec': [0.0, 0.0, 0.0]}"
      ]
     },
     "execution_count": 4,
     "metadata": {},
     "output_type": "execute_result"
    }
   ],
   "source": [
    "result"
   ]
  },
  {
   "cell_type": "code",
   "execution_count": 7,
   "metadata": {},
   "outputs": [],
   "source": [
    "# loading\n",
    "with open('journal_dataset/camera_calibration.yaml') as fin:\n",
    "    c = fin.read()\n",
    "    # some operator on raw conent of c may be needed\n",
    "    c = \"%YAML 1.1\"+os.linesep+\"---\" + c[len(\"%YAML:1.0\"):] if c.startswith(\"%YAML:1.0\") else c\n",
    "    result = yaml.full_load(c)"
   ]
  },
  {
   "cell_type": "code",
   "execution_count": 8,
   "metadata": {},
   "outputs": [
    {
     "data": {
      "text/plain": [
       "{'K1': array([[1.64355164e+03, 0.00000000e+00, 8.33842175e+02],\n",
       "        [0.00000000e+00, 1.63281196e+03, 6.57989555e+02],\n",
       "        [0.00000000e+00, 0.00000000e+00, 1.00000000e+00]]),\n",
       " 'K2': array([[1.63577915e+03, 0.00000000e+00, 1.05825488e+03],\n",
       "        [0.00000000e+00, 1.63112678e+03, 6.94985444e+02],\n",
       "        [0.00000000e+00, 0.00000000e+00, 1.00000000e+00]]),\n",
       " 'D1': array([[-0.40444239,  0.58161898, -0.00497978,  0.00232176, -0.21547479]]),\n",
       " 'D2': array([[-0.38302513,  0.49543626, -0.00251143,  0.00254013, -0.05051454]]),\n",
       " 'ImageSize': [1080, 1920],\n",
       " 'T': [-5.30606823731539, -0.203133361927184, -0.256298572991149],\n",
       " 'R': array([[ 0.99988655, -0.00130389, -0.01500622],\n",
       "        [ 0.00111945,  0.99992382, -0.01229268],\n",
       "        [ 0.01502111,  0.01227449,  0.99981183]])}"
      ]
     },
     "execution_count": 8,
     "metadata": {},
     "output_type": "execute_result"
    }
   ],
   "source": [
    "result"
   ]
  },
  {
   "cell_type": "code",
   "execution_count": 10,
   "metadata": {},
   "outputs": [
    {
     "data": {
      "text/plain": [
       "(3, 3)"
      ]
     },
     "execution_count": 10,
     "metadata": {},
     "output_type": "execute_result"
    }
   ],
   "source": [
    "result['K1'].shape"
   ]
  },
  {
   "cell_type": "code",
   "execution_count": 1,
   "metadata": {},
   "outputs": [],
   "source": [
    "import numpy as np\n",
    "std = np.asarray([1.0e-3, 1.0e-3, 1.0e-3, # pos\n",
    "                1.0e-2, 1.0e-2, 1.0e-2, # ori\n",
    "                0.0, 0.0, 0.0])   # joints"
   ]
  },
  {
   "cell_type": "code",
   "execution_count": 6,
   "metadata": {},
   "outputs": [],
   "source": [
    "from scipy.stats import multivariate_normal"
   ]
  },
  {
   "cell_type": "code",
   "execution_count": null,
   "metadata": {},
   "outputs": [],
   "source": [
    "sample = multivariate_normal(x = np.zeros(std.shape[0]), cov = np.diag(std), )"
   ]
  },
  {
   "cell_type": "code",
   "execution_count": 4,
   "metadata": {},
   "outputs": [
    {
     "data": {
      "text/plain": [
       "array([[0.001, 0.   , 0.   , 0.   , 0.   , 0.   , 0.   , 0.   , 0.   ],\n",
       "       [0.   , 0.001, 0.   , 0.   , 0.   , 0.   , 0.   , 0.   , 0.   ],\n",
       "       [0.   , 0.   , 0.001, 0.   , 0.   , 0.   , 0.   , 0.   , 0.   ],\n",
       "       [0.   , 0.   , 0.   , 0.01 , 0.   , 0.   , 0.   , 0.   , 0.   ],\n",
       "       [0.   , 0.   , 0.   , 0.   , 0.01 , 0.   , 0.   , 0.   , 0.   ],\n",
       "       [0.   , 0.   , 0.   , 0.   , 0.   , 0.01 , 0.   , 0.   , 0.   ],\n",
       "       [0.   , 0.   , 0.   , 0.   , 0.   , 0.   , 0.   , 0.   , 0.   ],\n",
       "       [0.   , 0.   , 0.   , 0.   , 0.   , 0.   , 0.   , 0.   , 0.   ],\n",
       "       [0.   , 0.   , 0.   , 0.   , 0.   , 0.   , 0.   , 0.   , 0.   ]])"
      ]
     },
     "execution_count": 4,
     "metadata": {},
     "output_type": "execute_result"
    }
   ],
   "source": [
    "np.diag(std)"
   ]
  },
  {
   "cell_type": "code",
   "execution_count": 5,
   "metadata": {},
   "outputs": [
    {
     "data": {
      "text/plain": [
       "array([[ 0.00959427,  0.01783143, -0.04159998, -0.05011424,  0.03354048,\n",
       "         0.0069199 ,  0.        ,  0.        ,  0.        ]])"
      ]
     },
     "execution_count": 5,
     "metadata": {},
     "output_type": "execute_result"
    }
   ],
   "source": [
    "np.random.multivariate_normal(mean = np.zeros(std.shape[0]), cov = np.diag(std), size = 1)"
   ]
  }
 ],
 "metadata": {
  "kernelspec": {
   "display_name": "Python 3.9.5 ('tool_tracking')",
   "language": "python",
   "name": "python3"
  },
  "language_info": {
   "codemirror_mode": {
    "name": "ipython",
    "version": 3
   },
   "file_extension": ".py",
   "mimetype": "text/x-python",
   "name": "python",
   "nbconvert_exporter": "python",
   "pygments_lexer": "ipython3",
   "version": "3.9.5"
  },
  "orig_nbformat": 4,
  "vscode": {
   "interpreter": {
    "hash": "fde6c576eb766ba3c1c2c7d5faf6097597677b824c65797a34c882216419f662"
   }
  }
 },
 "nbformat": 4,
 "nbformat_minor": 2
}
